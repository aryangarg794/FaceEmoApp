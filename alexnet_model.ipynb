{
 "cells": [
  {
   "cell_type": "code",
   "execution_count": 8,
   "metadata": {},
   "outputs": [],
   "source": [
    "import numpy as np\n",
    "from PIL import Image\n",
    "import tensorflow as tf"
   ]
  },
  {
   "cell_type": "code",
   "execution_count": 25,
   "metadata": {},
   "outputs": [],
   "source": [
    "batch_size = 64\n",
    "img_height = 48\n",
    "img_width = 48\n",
    "AUTOTUNE = tf.data.AUTOTUNE"
   ]
  },
  {
   "cell_type": "code",
   "execution_count": 4,
   "metadata": {},
   "outputs": [],
   "source": [
    "import pathlib\n",
    "data_dir_train = pathlib.Path('./images/images/train')\n",
    "data_dir_val = pathlib.Path('./images/images/validation')"
   ]
  },
  {
   "cell_type": "code",
   "execution_count": 27,
   "metadata": {},
   "outputs": [
    {
     "name": "stdout",
     "output_type": "stream",
     "text": [
      "Found 28821 files belonging to 7 classes.\n"
     ]
    }
   ],
   "source": [
    "train_ds = tf.keras.utils.image_dataset_from_directory(\n",
    "  data_dir_train,\n",
    "  image_size=(img_height, img_width),\n",
    "  batch_size=batch_size,\n",
    "  color_mode='grayscale'\n",
    "  )"
   ]
  },
  {
   "cell_type": "code",
   "execution_count": 28,
   "metadata": {},
   "outputs": [
    {
     "name": "stdout",
     "output_type": "stream",
     "text": [
      "Found 7066 files belonging to 7 classes.\n"
     ]
    }
   ],
   "source": [
    "val_ds = tf.keras.utils.image_dataset_from_directory(\n",
    "  data_dir_val,\n",
    "  image_size=(img_height, img_width),\n",
    "  batch_size=batch_size,\n",
    "  color_mode='grayscale'\n",
    "  )"
   ]
  },
  {
   "cell_type": "code",
   "execution_count": 29,
   "metadata": {},
   "outputs": [],
   "source": [
    "from tensorflow.keras.models import Sequential\n",
    "from tensorflow.keras.layers import RandomFlip, RandomRotation, Rescaling, RandomZoom, RandomContrast\n",
    "\n",
    "rescaling = Sequential([\n",
    "    Rescaling(1./255),\n",
    "])\n",
    "\n",
    "preprocessing_seq = Sequential([\n",
    "    rescaling,\n",
    "    RandomFlip(),\n",
    "    RandomRotation(0.2),\n",
    "    RandomZoom((-0.3, 0.3)),\n",
    "    RandomContrast(0.1)\n",
    "])"
   ]
  },
  {
   "cell_type": "code",
   "execution_count": 30,
   "metadata": {},
   "outputs": [],
   "source": [
    "new_train_ds = train_ds.map(\n",
    "    lambda x, y: (preprocessing_seq(x, training=True), y)\n",
    ")"
   ]
  },
  {
   "cell_type": "code",
   "execution_count": 31,
   "metadata": {},
   "outputs": [],
   "source": [
    "new_val_ds = val_ds.map(\n",
    "    lambda x, y: (rescaling(x), y)\n",
    ")"
   ]
  },
  {
   "cell_type": "code",
   "execution_count": 32,
   "metadata": {},
   "outputs": [
    {
     "data": {
      "text/plain": [
       "<_PrefetchDataset element_spec=(TensorSpec(shape=(None, 48, 48, 1), dtype=tf.float32, name=None), TensorSpec(shape=(None,), dtype=tf.int32, name=None))>"
      ]
     },
     "execution_count": 32,
     "metadata": {},
     "output_type": "execute_result"
    }
   ],
   "source": [
    "new_train_ds.prefetch(buffer_size=AUTOTUNE)\n",
    "new_val_ds.prefetch(buffer_size=AUTOTUNE)"
   ]
  },
  {
   "cell_type": "code",
   "execution_count": 34,
   "metadata": {},
   "outputs": [],
   "source": [
    "num_classes = 7"
   ]
  },
  {
   "cell_type": "code",
   "execution_count": 46,
   "metadata": {},
   "outputs": [],
   "source": [
    "from tensorflow.keras.layers import Conv2D, Input, Dropout, Dense, Lambda, MaxPool2D, Flatten\n",
    "from tensorflow.nn import local_response_normalization\n",
    "\n",
    "alexnet = Sequential([\n",
    "    Input(shape=(48, 48, 1)),\n",
    "    Conv2D(filters=96, kernel_size=11, strides=4, padding='same', activation='relu'),\n",
    "    Lambda(local_response_normalization),\n",
    "    MaxPool2D(pool_size=3, strides=2, padding='same'),\n",
    "\n",
    "    Conv2D(filters=256, kernel_size=5, strides=4, padding='same', activation='relu'),\n",
    "    Lambda(local_response_normalization),\n",
    "    MaxPool2D(pool_size=3, strides=2,  padding='same'),\n",
    "\n",
    "    Conv2D(filters=384, kernel_size=3, strides=4, padding='same', activation='relu'),\n",
    "    Dropout(0.2),\n",
    "    Conv2D(filters=384, kernel_size=3, strides=4, padding='same', activation='relu'),\n",
    "    Dropout(0.2),\n",
    "    Conv2D(filters=256, kernel_size=3, strides=4, padding='same', activation='relu'),\n",
    "    Dropout(0.2),\n",
    "\n",
    "    Flatten(),\n",
    "    Dense(units=4096, activation='relu'),\n",
    "    Dense(units=4096, activation='relu'),\n",
    "    Dense(units=num_classes, activation='softmax')\n",
    "])"
   ]
  },
  {
   "cell_type": "code",
   "execution_count": 47,
   "metadata": {},
   "outputs": [
    {
     "name": "stdout",
     "output_type": "stream",
     "text": [
      "Model: \"sequential_17\"\n",
      "_________________________________________________________________\n",
      " Layer (type)                Output Shape              Param #   \n",
      "=================================================================\n",
      " conv2d_50 (Conv2D)          (None, 12, 12, 96)        11712     \n",
      "                                                                 \n",
      " lambda_20 (Lambda)          (None, 12, 12, 96)        0         \n",
      "                                                                 \n",
      " max_pooling2d_20 (MaxPooli  (None, 6, 6, 96)          0         \n",
      " ng2D)                                                           \n",
      "                                                                 \n",
      " conv2d_51 (Conv2D)          (None, 2, 2, 256)         614656    \n",
      "                                                                 \n",
      " lambda_21 (Lambda)          (None, 2, 2, 256)         0         \n",
      "                                                                 \n",
      " max_pooling2d_21 (MaxPooli  (None, 1, 1, 256)         0         \n",
      " ng2D)                                                           \n",
      "                                                                 \n",
      " conv2d_52 (Conv2D)          (None, 1, 1, 384)         885120    \n",
      "                                                                 \n",
      " dropout_30 (Dropout)        (None, 1, 1, 384)         0         \n",
      "                                                                 \n",
      " conv2d_53 (Conv2D)          (None, 1, 1, 384)         1327488   \n",
      "                                                                 \n",
      " dropout_31 (Dropout)        (None, 1, 1, 384)         0         \n",
      "                                                                 \n",
      " conv2d_54 (Conv2D)          (None, 1, 1, 256)         884992    \n",
      "                                                                 \n",
      " dropout_32 (Dropout)        (None, 1, 1, 256)         0         \n",
      "                                                                 \n",
      " flatten_5 (Flatten)         (None, 256)               0         \n",
      "                                                                 \n",
      " dense_30 (Dense)            (None, 4096)              1052672   \n",
      "                                                                 \n",
      " dense_31 (Dense)            (None, 4096)              16781312  \n",
      "                                                                 \n",
      " dense_32 (Dense)            (None, 7)                 28679     \n",
      "                                                                 \n",
      "=================================================================\n",
      "Total params: 21586631 (82.35 MB)\n",
      "Trainable params: 21586631 (82.35 MB)\n",
      "Non-trainable params: 0 (0.00 Byte)\n",
      "_________________________________________________________________\n"
     ]
    }
   ],
   "source": [
    "alexnet.summary()"
   ]
  },
  {
   "cell_type": "code",
   "execution_count": 48,
   "metadata": {},
   "outputs": [],
   "source": [
    "from tensorflow.keras.optimizers import Adam\n",
    "\n",
    "alexnet.compile(optimizer=Adam(), loss='categorical_crossentropy', metrics=['accuracy'])"
   ]
  }
 ],
 "metadata": {
  "kernelspec": {
   "display_name": "Python 3",
   "language": "python",
   "name": "python3"
  },
  "language_info": {
   "codemirror_mode": {
    "name": "ipython",
    "version": 3
   },
   "file_extension": ".py",
   "mimetype": "text/x-python",
   "name": "python",
   "nbconvert_exporter": "python",
   "pygments_lexer": "ipython3",
   "version": "3.11.5"
  }
 },
 "nbformat": 4,
 "nbformat_minor": 2
}
